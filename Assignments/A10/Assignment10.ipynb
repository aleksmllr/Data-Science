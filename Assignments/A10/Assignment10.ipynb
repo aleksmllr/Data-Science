{
 "cells": [
  {
   "cell_type": "markdown",
   "metadata": {},
   "source": [
    "# Assignment 10: Nested Spheres\n",
    "\n",
    "Simulation is an incredibly useful tool in data science.  We can use simulation to evaluate how algorithms perform against ground truth, and how algorithms compare to one another.\n",
    "\n",
    "In this assignment, you will be implementing and extending the nested spheres simulation study found in *Elements of Statistical Learning* page 339.  \n",
    "\n",
    "# Nested Spheres\n",
    "\n",
    "Consider a dataset which contains 10 features $X_1 \\,, X_2 \\,, \\cdots \\,, X_{10}$.  The features are standard independent Gaussian random variables.  That is to say\n",
    "\n",
    "$$ X_j \\sim \\operatorname{Normal}(0,1) \\quad \\forall j = 1 \\dots 10$$\n",
    "\n",
    "We are going to use these features to study a classification problem.  You will have to create the target variable, $Y$ by computing the following rule:\n",
    "\n",
    "$$ Y = \\begin{cases}  1 \\quad \\mbox{ if } \\sum_{j=1}^{10} X^2_j>9.34 \\\\ -1 \\quad  \\mbox{else} \\end{cases}$$\n",
    "\n",
    "# The Simulation Study\n",
    "\n",
    "Follow these steps to complete the assignment. \n",
    "\n",
    "## Steps:\n",
    "\n",
    "1. Generate a training data set of 2000 observations according to the description above.  Label each of these training examples according to the rule above.\n",
    "\n",
    "2. Train a bagged estimator, a random forrest with `max_features=1`, a random forest with `max_features=3`, and an additional model of your choice (you can increase max features again, or you can explore a boosted estimator).  Use 500 trees in your random forests and bagged estimator.\n",
    "\n",
    "3.  Generate a testing data set of 10,000 observations according to the description above.  Label each of these training examples according to the rule above.\n",
    "\n",
    "4.  Use each model to predict on the testing data.  Record the testing error rate (that is 1 - accuracy).\n",
    "\n",
    "\n",
    "Repeat these steps 50 times.  Plot the error rates as a box plot by model to complete the assignment.\n",
    "\n"
   ]
  },
  {
   "cell_type": "code",
   "execution_count": 6,
   "metadata": {},
   "outputs": [
    {
     "name": "stderr",
     "output_type": "stream",
     "text": [
      "100%|██████████| 50/50 [11:06<00:00, 13.33s/it]\n"
     ]
    }
   ],
   "source": [
    "# 1 if out of the sphere, -1 if inside the sphere\n",
    "import numpy as np\n",
    "import matplotlib.pyplot as plt\n",
    "import matplotlib as mpl\n",
    "from sklearn.tree import DecisionTreeClassifier\n",
    "from sklearn.ensemble import BaggingClassifier, RandomForestClassifier, GradientBoostingClassifier\n",
    "from sklearn.metrics import accuracy_score\n",
    "import pandas as pd\n",
    "from tqdm import tqdm\n",
    "\n",
    "\n",
    "def generate_data(N):\n",
    "    \n",
    "    '''\n",
    "    This function creates the data according to the rule above.\n",
    "    \n",
    "    Inputs:\n",
    "    N - integer.  The number of samples to draw.\n",
    "    '''\n",
    "    # Some logic to prevent some errors\n",
    "    if N<=0:\n",
    "        raise ValueError('N must be a postivie integer')\n",
    "    if isinstance(N,float):\n",
    "        N = int(np.floor(N))\n",
    "\n",
    "    # Generate the features to learn from.\n",
    "    # Features are iid standard gaussian, so draw from a multivariable standar normal in which the \n",
    "    # covariance matrix is the identity\n",
    "    # generate random numbers given a size\n",
    "    X = np.random.multivariate_normal(mean = np.zeros(10), cov = np.eye(10), size = N)\n",
    "\n",
    "    # Calculate the sum to determine if y=0 or y=1\n",
    "    # calculate radius squared\n",
    "    # compute squared norm across each row (apply function row wise)\n",
    "    radius_squared = np.linalg.norm(X, 2, axis = 1)**2\n",
    "    y = radius_squared > 9.34\n",
    "\n",
    "    return X,y\n",
    "\n",
    "# Perform the simulation below.  Initialize somewhere to store the errors\n",
    "number_of_simulations = 50\n",
    "bag_err = np.zeros(number_of_simulations)\n",
    "rf1_err = np.zeros(number_of_simulations)\n",
    "rf2_err = np.zeros(number_of_simulations)\n",
    "gb_err = np.zeros(number_of_simulations)\n",
    "# need to make something to hold rf_err***********\n",
    "\n",
    "# tqdm() shows you how far you are in your loop***********************\n",
    "\n",
    "for i in tqdm(range(number_of_simulations)):\n",
    "\n",
    "    # Step 1: \n",
    "    # Generate a training data set of 2000 observations according to the description above.  \n",
    "    # Label each of these training examples according to the rule above.\n",
    "    Xtrain,ytrain = generate_data(N=2000)  \n",
    "    \n",
    "    \n",
    "    # Instantiate Models\n",
    "    bag = BaggingClassifier(DecisionTreeClassifier(), n_estimators=500) # arg1 = classifier were bagging, # arg2 = # of bootstrap datasets\n",
    "    rf1 = RandomForestClassifier(n_estimators=500, max_depth=3, max_features=1)\n",
    "    rf2 = RandomForestClassifier(n_estimators=500, max_depth=3, max_features=3) \n",
    "    gb = GradientBoostingClassifier(n_estimators=500, max_depth=3, max_features=3) \n",
    "    \n",
    "    # Step 2: Train a bagged estimator\n",
    "    # Use 500 trees in your random forests and bagged estimator.\n",
    "    bag.fit(Xtrain, ytrain)\n",
    "    rf1.fit(Xtrain, ytrain)\n",
    "    rf2.fit(Xtrain, ytrain)\n",
    "    gb.fit(Xtrain, ytrain)\n",
    "    \n",
    "    #Step 3:\n",
    "    # Generate a testing data set of 10,000 observations according to the description above.  \n",
    "    # Label each of these training examples according to the rule above.\n",
    "    Xtest,ytest = generate_data(N=10_000)\n",
    "\n",
    "    # Step 4:\n",
    "    # Use each model to predict on the testing data.  \n",
    "    bag_pred = bag.predict(Xtest)\n",
    "    rf1_pred = rf1.predict(Xtest)\n",
    "    rf2_pred = rf2.predict(Xtest)\n",
    "    gb_pred = gb.predict(Xtest)\n",
    "    \n",
    "    # Record the testing error rate (that is 1 - accuracy).\n",
    "    bag_err[i] = 1-accuracy_score(ytest, bag_pred)\n",
    "    rf1_err[i] = 1-accuracy_score(ytest, rf1_pred)\n",
    "    rf2_err[i] = 1-accuracy_score(ytest, rf2_pred)\n",
    "    gb_err[i] = 1-accuracy_score(ytest, gb_pred)"
   ]
  },
  {
   "cell_type": "code",
   "execution_count": 8,
   "metadata": {},
   "outputs": [
    {
     "data": {
      "text/plain": [
       "Text(0, 0.5, 'Test misclassification rate')"
      ]
     },
     "execution_count": 8,
     "metadata": {},
     "output_type": "execute_result"
    },
    {
     "data": {
      "image/png": "[encoded data removed]",
      "text/plain": [
       "<Figure size 432x288 with 1 Axes>"
      ]
     },
     "metadata": {
      "needs_background": "light"
     },
     "output_type": "display_data"
    }
   ],
   "source": [
    "estimators = {'bag': bag_err, 'rf1': rf1_err, 'rf2': rf2_err, 'gb': gb_err}\n",
    "\n",
    "df = pd.DataFrame(estimators)\n",
    "fig, ax = plt.subplots()\n",
    "df.boxplot()\n",
    "ax.axhline(0, color = 'red')\n",
    "ax.set_ylabel('Test misclassification rate')"
   ]
  },
  {
   "cell_type": "code",
   "execution_count": null,
   "metadata": {},
   "outputs": [],
   "source": []
  }
 ],
 "metadata": {
  "kernelspec": {
   "display_name": "Python 3",
   "language": "python",
   "name": "python3"
  },
  "language_info": {
   "codemirror_mode": {
    "name": "ipython",
    "version": 3
   },
   "file_extension": ".py",
   "mimetype": "text/x-python",
   "name": "python",
   "nbconvert_exporter": "python",
   "pygments_lexer": "ipython3",
   "version": "3.6.9"
  }
 },
 "nbformat": 4,
 "nbformat_minor": 4
}
