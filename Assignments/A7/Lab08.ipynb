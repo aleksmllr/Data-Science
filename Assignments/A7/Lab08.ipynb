{
 "cells": [
  {
   "cell_type": "markdown",
   "metadata": {},
   "source": [
    "# Lab 08 - Support Vector Machines"
   ]
  },
  {
   "cell_type": "code",
   "execution_count": 1,
   "metadata": {},
   "outputs": [],
   "source": [
    "# You may need these\n",
    "import pandas as pd\n",
    "import numpy as np\n",
    "from sklearn.model_selection import train_test_split, cross_val_score, cross_validate, GridSearchCV\n",
    "from sklearn.pipeline import Pipeline\n",
    "from sklearn.svm import SVC, LinearSVC\n",
    "from sklearn.metrics import auc, recall_score, accuracy_score, make_scorer, confusion_matrix\n",
    "from sklearn.utils.multiclass import unique_labels\n",
    "from sklearn.preprocessing import StandardScaler, MinMaxScaler\n",
    "import seaborn as sns\n",
    "\n",
    "import matplotlib.pyplot as plt\n",
    "%matplotlib inline"
   ]
  },
  {
   "cell_type": "markdown",
   "metadata": {},
   "source": [
    "# E-mail data"
   ]
  },
  {
   "cell_type": "code",
   "execution_count": 2,
   "metadata": {},
   "outputs": [
    {
     "name": "stdout",
     "output_type": "stream",
     "text": [
      "Baseline accuracy: 0.90640142820709\n"
     ]
    },
    {
     "data": {
      "text/html": [
       "<div>\n",
       "<style scoped>\n",
       "    .dataframe tbody tr th:only-of-type {\n",
       "        vertical-align: middle;\n",
       "    }\n",
       "\n",
       "    .dataframe tbody tr th {\n",
       "        vertical-align: top;\n",
       "    }\n",
       "\n",
       "    .dataframe thead th {\n",
       "        text-align: right;\n",
       "    }\n",
       "</style>\n",
       "<table border=\"1\" class=\"dataframe\">\n",
       "  <thead>\n",
       "    <tr style=\"text-align: right;\">\n",
       "      <th></th>\n",
       "      <th>spam</th>\n",
       "      <th>to_multiple</th>\n",
       "      <th>from</th>\n",
       "      <th>cc</th>\n",
       "      <th>sent_email</th>\n",
       "      <th>image</th>\n",
       "      <th>attach</th>\n",
       "      <th>dollar</th>\n",
       "      <th>inherit</th>\n",
       "      <th>viagra</th>\n",
       "      <th>password</th>\n",
       "      <th>num_char</th>\n",
       "      <th>line_breaks</th>\n",
       "      <th>format</th>\n",
       "      <th>re_subj</th>\n",
       "      <th>exclaim_subj</th>\n",
       "      <th>urgent_subj</th>\n",
       "      <th>exclaim_mess</th>\n",
       "    </tr>\n",
       "  </thead>\n",
       "  <tbody>\n",
       "    <tr>\n",
       "      <td>0</td>\n",
       "      <td>0</td>\n",
       "      <td>0</td>\n",
       "      <td>1</td>\n",
       "      <td>0</td>\n",
       "      <td>0</td>\n",
       "      <td>0</td>\n",
       "      <td>0</td>\n",
       "      <td>0</td>\n",
       "      <td>0</td>\n",
       "      <td>0</td>\n",
       "      <td>0</td>\n",
       "      <td>11.370</td>\n",
       "      <td>202</td>\n",
       "      <td>1</td>\n",
       "      <td>0</td>\n",
       "      <td>0</td>\n",
       "      <td>0</td>\n",
       "      <td>0</td>\n",
       "    </tr>\n",
       "    <tr>\n",
       "      <td>1</td>\n",
       "      <td>0</td>\n",
       "      <td>0</td>\n",
       "      <td>1</td>\n",
       "      <td>0</td>\n",
       "      <td>0</td>\n",
       "      <td>0</td>\n",
       "      <td>0</td>\n",
       "      <td>0</td>\n",
       "      <td>0</td>\n",
       "      <td>0</td>\n",
       "      <td>0</td>\n",
       "      <td>10.504</td>\n",
       "      <td>202</td>\n",
       "      <td>1</td>\n",
       "      <td>0</td>\n",
       "      <td>0</td>\n",
       "      <td>0</td>\n",
       "      <td>1</td>\n",
       "    </tr>\n",
       "    <tr>\n",
       "      <td>2</td>\n",
       "      <td>0</td>\n",
       "      <td>0</td>\n",
       "      <td>1</td>\n",
       "      <td>0</td>\n",
       "      <td>0</td>\n",
       "      <td>0</td>\n",
       "      <td>0</td>\n",
       "      <td>4</td>\n",
       "      <td>1</td>\n",
       "      <td>0</td>\n",
       "      <td>0</td>\n",
       "      <td>7.773</td>\n",
       "      <td>192</td>\n",
       "      <td>1</td>\n",
       "      <td>0</td>\n",
       "      <td>0</td>\n",
       "      <td>0</td>\n",
       "      <td>6</td>\n",
       "    </tr>\n",
       "    <tr>\n",
       "      <td>3</td>\n",
       "      <td>0</td>\n",
       "      <td>0</td>\n",
       "      <td>1</td>\n",
       "      <td>0</td>\n",
       "      <td>0</td>\n",
       "      <td>0</td>\n",
       "      <td>0</td>\n",
       "      <td>0</td>\n",
       "      <td>0</td>\n",
       "      <td>0</td>\n",
       "      <td>0</td>\n",
       "      <td>13.256</td>\n",
       "      <td>255</td>\n",
       "      <td>1</td>\n",
       "      <td>0</td>\n",
       "      <td>0</td>\n",
       "      <td>0</td>\n",
       "      <td>48</td>\n",
       "    </tr>\n",
       "    <tr>\n",
       "      <td>4</td>\n",
       "      <td>0</td>\n",
       "      <td>0</td>\n",
       "      <td>1</td>\n",
       "      <td>0</td>\n",
       "      <td>0</td>\n",
       "      <td>0</td>\n",
       "      <td>0</td>\n",
       "      <td>0</td>\n",
       "      <td>0</td>\n",
       "      <td>0</td>\n",
       "      <td>2</td>\n",
       "      <td>1.231</td>\n",
       "      <td>29</td>\n",
       "      <td>0</td>\n",
       "      <td>0</td>\n",
       "      <td>0</td>\n",
       "      <td>0</td>\n",
       "      <td>1</td>\n",
       "    </tr>\n",
       "  </tbody>\n",
       "</table>\n",
       "</div>"
      ],
      "text/plain": [
       "   spam  to_multiple  from  cc  sent_email  image  attach  dollar  inherit  \\\n",
       "0     0            0     1   0           0      0       0       0        0   \n",
       "1     0            0     1   0           0      0       0       0        0   \n",
       "2     0            0     1   0           0      0       0       4        1   \n",
       "3     0            0     1   0           0      0       0       0        0   \n",
       "4     0            0     1   0           0      0       0       0        0   \n",
       "\n",
       "   viagra  password  num_char  line_breaks  format  re_subj  exclaim_subj  \\\n",
       "0       0         0    11.370          202       1        0             0   \n",
       "1       0         0    10.504          202       1        0             0   \n",
       "2       0         0     7.773          192       1        0             0   \n",
       "3       0         0    13.256          255       1        0             0   \n",
       "4       0         2     1.231           29       0        0             0   \n",
       "\n",
       "   urgent_subj  exclaim_mess  \n",
       "0            0             0  \n",
       "1            0             1  \n",
       "2            0             6  \n",
       "3            0            48  \n",
       "4            0             1  "
      ]
     },
     "execution_count": 2,
     "metadata": {},
     "output_type": "execute_result"
    }
   ],
   "source": [
    "df = pd.read_csv('email.txt', delimiter='\\t')\n",
    "\n",
    "df = df.drop(['time','number', 'winner'], axis='columns')\n",
    "X = df.drop('spam', axis = 'columns')\n",
    "y = df.spam.values\n",
    "\n",
    "print(f\"Baseline accuracy: {1 - y.mean()}\")\n",
    "\n",
    "df.head()"
   ]
  },
  {
   "cell_type": "markdown",
   "metadata": {},
   "source": [
    "# Linear SVMs"
   ]
  },
  {
   "cell_type": "code",
   "execution_count": 3,
   "metadata": {},
   "outputs": [
    {
     "name": "stdout",
     "output_type": "stream",
     "text": [
      "(778, 17)\n"
     ]
    }
   ],
   "source": [
    "scale_svc_pipe = Pipeline([\n",
    "    ('scale', MinMaxScaler(feature_range=(-1,1))),\n",
    "    ('MySVC', SVC(kernel='linear', gamma = 'auto', C = 1) )\n",
    "])\n",
    "\n",
    "model = scale_svc_pipe.fit(X,y)\n",
    "print(model['MySVC'].support_vectors_.shape)"
   ]
  },
  {
   "cell_type": "code",
   "execution_count": 4,
   "metadata": {},
   "outputs": [
    {
     "name": "stdout",
     "output_type": "stream",
     "text": [
      "accuracy: 0.9074209715123084\n",
      "  recall: 0.019029988893002593\n"
     ]
    }
   ],
   "source": [
    "scoring = {'acc': 'accuracy',\n",
    "           'rec': 'recall'}\n",
    "scores = cross_validate(scale_svc_pipe, X, y, scoring=scoring,\n",
    "                        cv=5, return_train_score=True)\n",
    "\n",
    "print(f\"accuracy: {scores['test_acc'].mean()}\")\n",
    "print(f\"  recall: {scores['test_rec'].mean()}\")"
   ]
  },
  {
   "cell_type": "code",
   "execution_count": 34,
   "metadata": {},
   "outputs": [
    {
     "name": "stdout",
     "output_type": "stream",
     "text": [
      "(775, 17)\n"
     ]
    }
   ],
   "source": [
    "scale_svc_pipe = Pipeline([\n",
    "    ('scale', MinMaxScaler(feature_range=(-1,1))),\n",
    "    ('MySVC', SVC(kernel='linear', gamma = 'auto', C = 0.1) )\n",
    "])\n",
    "\n",
    "model = scale_svc_pipe.fit(X,y)\n",
    "print(model['MySVC'].support_vectors_.shape)"
   ]
  },
  {
   "cell_type": "code",
   "execution_count": 24,
   "metadata": {},
   "outputs": [
    {
     "name": "stdout",
     "output_type": "stream",
     "text": [
      "accuracy: 0.9064018632320536\n",
      "  recall: 0.0\n"
     ]
    }
   ],
   "source": [
    "scoring = {'acc': 'accuracy',\n",
    "           'rec': 'recall'}\n",
    "scores = cross_validate(scale_svc_pipe, X, y, scoring=scoring,\n",
    "                        cv=5, return_train_score=True)\n",
    "\n",
    "print(f\"accuracy: {scores['test_acc'].mean()}\")\n",
    "print(f\"  recall: {scores['test_rec'].mean()}\")"
   ]
  },
  {
   "cell_type": "code",
   "execution_count": 35,
   "metadata": {},
   "outputs": [
    {
     "name": "stdout",
     "output_type": "stream",
     "text": [
      "(802, 17)\n"
     ]
    }
   ],
   "source": [
    "scale_svc_pipe = Pipeline([\n",
    "    ('scale', MinMaxScaler(feature_range=(-1,1))),\n",
    "    ('MySVC', SVC(kernel='linear', gamma = 'auto', C = 3) )\n",
    "])\n",
    "\n",
    "model = scale_svc_pipe.fit(X,y)\n",
    "print(model['MySVC'].support_vectors_.shape)"
   ]
  },
  {
   "cell_type": "code",
   "execution_count": 26,
   "metadata": {},
   "outputs": [
    {
     "name": "stdout",
     "output_type": "stream",
     "text": [
      "accuracy: 0.9074209715123084\n",
      "  recall: 0.019029988893002593\n"
     ]
    }
   ],
   "source": [
    "scoring = {'acc': 'accuracy',\n",
    "           'rec': 'recall'}\n",
    "scores = cross_validate(scale_svc_pipe, X, y, scoring=scoring,\n",
    "                        cv=5, return_train_score=True)\n",
    "\n",
    "print(f\"accuracy: {scores['test_acc'].mean()}\")\n",
    "print(f\"  recall: {scores['test_rec'].mean()}\")"
   ]
  },
  {
   "cell_type": "markdown",
   "metadata": {},
   "source": [
    "# Kernel SVMs"
   ]
  },
  {
   "cell_type": "code",
   "execution_count": 38,
   "metadata": {},
   "outputs": [
    {
     "name": "stdout",
     "output_type": "stream",
     "text": [
      "(772, 17)\n"
     ]
    }
   ],
   "source": [
    "scale_svc_pipe = Pipeline([\n",
    "    ('scale', MinMaxScaler(feature_range=(-1,1))),\n",
    "    ('MySVC', SVC(kernel='rbf', gamma = 'auto', C = 1) )\n",
    "])\n",
    "\n",
    "model = scale_svc_pipe.fit(X,y)\n",
    "print(model['MySVC'].support_vectors_.shape)"
   ]
  },
  {
   "cell_type": "code",
   "execution_count": 39,
   "metadata": {},
   "outputs": [
    {
     "name": "stdout",
     "output_type": "stream",
     "text": [
      "accuracy: 0.9064018632320536\n",
      "  recall: 0.0\n"
     ]
    }
   ],
   "source": [
    "scoring = {'acc': 'accuracy',\n",
    "           'rec': 'recall'}\n",
    "scores = cross_validate(scale_svc_pipe, X, y, scoring=scoring,\n",
    "                        cv=5, return_train_score=True)\n",
    "\n",
    "print(f\"accuracy: {scores['test_acc'].mean()}\")\n",
    "print(f\"  recall: {scores['test_rec'].mean()}\")"
   ]
  },
  {
   "cell_type": "code",
   "execution_count": 40,
   "metadata": {},
   "outputs": [
    {
     "name": "stdout",
     "output_type": "stream",
     "text": [
      "(780, 17)\n"
     ]
    }
   ],
   "source": [
    "scale_svc_pipe = Pipeline([\n",
    "    ('scale', MinMaxScaler(feature_range=(-1,1))),\n",
    "    ('MySVC', SVC(kernel='rbf', gamma = 'auto', C = 10) )\n",
    "])\n",
    "\n",
    "model = scale_svc_pipe.fit(X,y)\n",
    "print(model['MySVC'].support_vectors_.shape)"
   ]
  },
  {
   "cell_type": "code",
   "execution_count": 41,
   "metadata": {},
   "outputs": [
    {
     "name": "stdout",
     "output_type": "stream",
     "text": [
      "accuracy: 0.9094634160128654\n",
      "  recall: 0.06534616808589411\n"
     ]
    }
   ],
   "source": [
    "scoring = {'acc': 'accuracy',\n",
    "           'rec': 'recall'}\n",
    "scores = cross_validate(scale_svc_pipe, X, y, scoring=scoring,\n",
    "                        cv=5, return_train_score=True)\n",
    "\n",
    "print(f\"accuracy: {scores['test_acc'].mean()}\")\n",
    "print(f\"  recall: {scores['test_rec'].mean()}\")"
   ]
  },
  {
   "cell_type": "code",
   "execution_count": 42,
   "metadata": {},
   "outputs": [
    {
     "name": "stdout",
     "output_type": "stream",
     "text": [
      "(763, 17)\n"
     ]
    }
   ],
   "source": [
    "scale_svc_pipe = Pipeline([\n",
    "    ('scale', MinMaxScaler(feature_range=(-1,1))),\n",
    "    ('MySVC', SVC(kernel='rbf', gamma = 'auto', C = 100) )\n",
    "])\n",
    "\n",
    "model = scale_svc_pipe.fit(X,y)\n",
    "print(model['MySVC'].support_vectors_.shape)"
   ]
  },
  {
   "cell_type": "code",
   "execution_count": 43,
   "metadata": {},
   "outputs": [
    {
     "name": "stdout",
     "output_type": "stream",
     "text": [
      "accuracy: 0.912525292934364\n",
      "  recall: 0.13328396890040725\n"
     ]
    }
   ],
   "source": [
    "scoring = {'acc': 'accuracy',\n",
    "           'rec': 'recall'}\n",
    "scores = cross_validate(scale_svc_pipe, X, y, scoring=scoring,\n",
    "                        cv=5, return_train_score=True)\n",
    "\n",
    "print(f\"accuracy: {scores['test_acc'].mean()}\")\n",
    "print(f\"  recall: {scores['test_rec'].mean()}\")"
   ]
  },
  {
   "cell_type": "code",
   "execution_count": null,
   "metadata": {},
   "outputs": [],
   "source": [
    "scale_svc_pipe = Pipeline([\n",
    "    ('scale', MinMaxScaler(feature_range=(-1,1))),\n",
    "    ('MySVC', SVC(kernel='rbf', gamma = 'auto', C = 10000) )\n",
    "])\n",
    "\n",
    "model = scale_svc_pipe.fit(X,y)\n",
    "print(model['MySVC'].support_vectors_.shape)"
   ]
  },
  {
   "cell_type": "code",
   "execution_count": 44,
   "metadata": {},
   "outputs": [
    {
     "name": "stdout",
     "output_type": "stream",
     "text": [
      "(700, 17)\n",
      "accuracy: 0.9138024263320771\n",
      "  recall: 0.2015549796371714\n"
     ]
    }
   ],
   "source": [
    "scoring = {'acc': 'accuracy',\n",
    "           'rec': 'recall'}\n",
    "scores = cross_validate(scale_svc_pipe, X, y, scoring=scoring,\n",
    "                        cv=5, return_train_score=True)\n",
    "\n",
    "print(f\"accuracy: {scores['test_acc'].mean()}\")\n",
    "print(f\"  recall: {scores['test_rec'].mean()}\")"
   ]
  },
  {
   "cell_type": "code",
   "execution_count": 47,
   "metadata": {},
   "outputs": [
    {
     "name": "stdout",
     "output_type": "stream",
     "text": [
      "(695, 17)\n"
     ]
    }
   ],
   "source": [
    "scale_svc_pipe = Pipeline([\n",
    "    ('scale', MinMaxScaler(feature_range=(-1,1))),\n",
    "    ('MySVC', SVC(kernel='rbf', gamma = 0.1, C = 10000) )\n",
    "])\n",
    "\n",
    "model = scale_svc_pipe.fit(X,y)\n",
    "print(model['MySVC'].support_vectors_.shape)"
   ]
  },
  {
   "cell_type": "code",
   "execution_count": 48,
   "metadata": {},
   "outputs": [
    {
     "name": "stdout",
     "output_type": "stream",
     "text": [
      "accuracy: 0.9115074820469223\n",
      "  recall: 0.20429470566456867\n"
     ]
    }
   ],
   "source": [
    "scoring = {'acc': 'accuracy',\n",
    "           'rec': 'recall'}\n",
    "scores = cross_validate(scale_svc_pipe, X, y, scoring=scoring,\n",
    "                        cv=5, return_train_score=True)\n",
    "\n",
    "print(f\"accuracy: {scores['test_acc'].mean()}\")\n",
    "print(f\"  recall: {scores['test_rec'].mean()}\")"
   ]
  },
  {
   "cell_type": "code",
   "execution_count": 49,
   "metadata": {},
   "outputs": [
    {
     "name": "stdout",
     "output_type": "stream",
     "text": [
      "(579, 17)\n"
     ]
    }
   ],
   "source": [
    "scale_svc_pipe = Pipeline([\n",
    "    ('scale', MinMaxScaler(feature_range=(-1,1))),\n",
    "    ('MySVC', SVC(kernel='rbf', gamma = 100, C = 10000) )\n",
    "])\n",
    "\n",
    "model = scale_svc_pipe.fit(X,y)\n",
    "print(model['MySVC'].support_vectors_.shape)"
   ]
  },
  {
   "cell_type": "code",
   "execution_count": 50,
   "metadata": {},
   "outputs": [
    {
     "name": "stdout",
     "output_type": "stream",
     "text": [
      "accuracy: 0.9099762182003875\n",
      "  recall: 0.4469085523880045\n"
     ]
    }
   ],
   "source": [
    "scoring = {'acc': 'accuracy',\n",
    "           'rec': 'recall'}\n",
    "scores = cross_validate(scale_svc_pipe, X, y, scoring=scoring,\n",
    "                        cv=5, return_train_score=True)\n",
    "\n",
    "print(f\"accuracy: {scores['test_acc'].mean()}\")\n",
    "print(f\"  recall: {scores['test_rec'].mean()}\")"
   ]
  },
  {
   "cell_type": "code",
   "execution_count": 51,
   "metadata": {},
   "outputs": [
    {
     "name": "stdout",
     "output_type": "stream",
     "text": [
      "(1250, 17)\n"
     ]
    }
   ],
   "source": [
    "scale_svc_pipe = Pipeline([\n",
    "    ('scale', MinMaxScaler(feature_range=(-1,1))),\n",
    "    ('MySVC', SVC(kernel='rbf', gamma = 100, C = 1) )\n",
    "])\n",
    "\n",
    "model = scale_svc_pipe.fit(X,y)\n",
    "print(model['MySVC'].support_vectors_.shape)"
   ]
  },
  {
   "cell_type": "code",
   "execution_count": 52,
   "metadata": {},
   "outputs": [
    {
     "name": "stdout",
     "output_type": "stream",
     "text": [
      "accuracy: 0.9206895348128757\n",
      "  recall: 0.23994816734542762\n"
     ]
    }
   ],
   "source": [
    "scoring = {'acc': 'accuracy',\n",
    "           'rec': 'recall'}\n",
    "scores = cross_validate(scale_svc_pipe, X, y, scoring=scoring,\n",
    "                        cv=5, return_train_score=True)\n",
    "\n",
    "print(f\"accuracy: {scores['test_acc'].mean()}\")\n",
    "print(f\"  recall: {scores['test_rec'].mean()}\")"
   ]
  },
  {
   "cell_type": "code",
   "execution_count": 55,
   "metadata": {},
   "outputs": [
    {
     "name": "stdout",
     "output_type": "stream",
     "text": [
      "(827, 17)\n"
     ]
    }
   ],
   "source": [
    "scale_svc_pipe = Pipeline([\n",
    "    ('scale', MinMaxScaler(feature_range=(-1,1))),\n",
    "    ('MySVC', SVC(kernel='rbf', gamma = 100, C = 10000, class_weight=\"balanced\") )\n",
    "])\n",
    "\n",
    "model = scale_svc_pipe.fit(X,y)\n",
    "print(model['MySVC'].support_vectors_.shape)"
   ]
  },
  {
   "cell_type": "code",
   "execution_count": 56,
   "metadata": {},
   "outputs": [
    {
     "name": "stdout",
     "output_type": "stream",
     "text": [
      "accuracy: 0.8492563191662686\n",
      "  recall: 0.763420955201777\n"
     ]
    }
   ],
   "source": [
    "scoring = {'acc': 'accuracy',\n",
    "           'rec': 'recall'}\n",
    "scores = cross_validate(scale_svc_pipe, X, y, scoring=scoring,\n",
    "                        cv=5, return_train_score=True)\n",
    "\n",
    "print(f\"accuracy: {scores['test_acc'].mean()}\")\n",
    "print(f\"  recall: {scores['test_rec'].mean()}\")"
   ]
  },
  {
   "cell_type": "code",
   "execution_count": 59,
   "metadata": {},
   "outputs": [
    {
     "name": "stdout",
     "output_type": "stream",
     "text": [
      "(1698, 17)\n"
     ]
    }
   ],
   "source": [
    "scale_svc_pipe = Pipeline([\n",
    "    ('scale', MinMaxScaler(feature_range=(-1,1))),\n",
    "    ('MySVC', SVC(kernel='rbf', gamma = 100, C = 1, class_weight=\"balanced\") )\n",
    "])\n",
    "\n",
    "model = scale_svc_pipe.fit(X,y)\n",
    "print(model['MySVC'].support_vectors_.shape)"
   ]
  },
  {
   "cell_type": "code",
   "execution_count": 60,
   "metadata": {},
   "outputs": [
    {
     "name": "stdout",
     "output_type": "stream",
     "text": [
      "accuracy: 0.820945175566383\n",
      "  recall: 0.8287300999629768\n"
     ]
    }
   ],
   "source": [
    "scoring = {'acc': 'accuracy',\n",
    "           'rec': 'recall'}\n",
    "scores = cross_validate(scale_svc_pipe, X, y, scoring=scoring,\n",
    "                        cv=5, return_train_score=True)\n",
    "\n",
    "print(f\"accuracy: {scores['test_acc'].mean()}\")\n",
    "print(f\"  recall: {scores['test_rec'].mean()}\")"
   ]
  },
  {
   "cell_type": "markdown",
   "metadata": {},
   "source": [
    "# Last try for linear"
   ]
  },
  {
   "cell_type": "code",
   "execution_count": 61,
   "metadata": {},
   "outputs": [
    {
     "name": "stdout",
     "output_type": "stream",
     "text": [
      "(1949, 17)\n"
     ]
    }
   ],
   "source": [
    "scale_svc_pipe = Pipeline([\n",
    "    ('scale', MinMaxScaler(feature_range=(-1,1))),\n",
    "    ('MySVC', SVC(kernel='linear', C = 1, class_weight=\"balanced\") )\n",
    "])\n",
    "\n",
    "model = scale_svc_pipe.fit(X,y)\n",
    "print(model['MySVC'].support_vectors_.shape)"
   ]
  },
  {
   "cell_type": "code",
   "execution_count": 62,
   "metadata": {},
   "outputs": [
    {
     "name": "stdout",
     "output_type": "stream",
     "text": [
      "accuracy: 0.6914055885672716\n",
      "  recall: 0.8802295446131063\n"
     ]
    }
   ],
   "source": [
    "scoring = {'acc': 'accuracy',\n",
    "           'rec': 'recall'}\n",
    "scores = cross_validate(scale_svc_pipe, X, y, scoring=scoring,\n",
    "                        cv=5, return_train_score=True)\n",
    "\n",
    "print(f\"accuracy: {scores['test_acc'].mean()}\")\n",
    "print(f\"  recall: {scores['test_rec'].mean()}\")"
   ]
  },
  {
   "cell_type": "code",
   "execution_count": null,
   "metadata": {},
   "outputs": [],
   "source": []
  }
 ],
 "metadata": {
  "kernelspec": {
   "display_name": "Python 3",
   "language": "python",
   "name": "python3"
  },
  "language_info": {
   "codemirror_mode": {
    "name": "ipython",
    "version": 3
   },
   "file_extension": ".py",
   "mimetype": "text/x-python",
   "name": "python",
   "nbconvert_exporter": "python",
   "pygments_lexer": "ipython3",
   "version": "3.6.9"
  }
 },
 "nbformat": 4,
 "nbformat_minor": 2
}
