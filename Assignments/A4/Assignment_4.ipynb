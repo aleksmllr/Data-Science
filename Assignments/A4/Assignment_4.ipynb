{
 "cells": [
  {
   "cell_type": "markdown",
   "metadata": {},
   "source": [
    "# Assignment 4\n",
    "\n",
    "### Instructions\n",
    "\n",
    "* Write your code in the cells provided.  Where appropirate, enter markdown to answer questions.\n",
    "\n",
    "* Submit this notebook to owl.\n",
    "\n",
    "---\n"
   ]
  },
  {
   "cell_type": "code",
   "execution_count": 1,
   "metadata": {},
   "outputs": [],
   "source": [
    "# It's dangerous to go alone.  Take these!\n",
    "import pandas as pd\n",
    "import numpy as np\n",
    "import matplotlib.pyplot as plt\n",
    "import seaborn as sns\n",
    "from sklearn.model_selection import train_test_split, cross_val_score\n",
    "from sklearn.linear_model import LinearRegression\n",
    "from sklearn.pipeline import Pipeline\n",
    "from sklearn.preprocessing import StandardScaler, PolynomialFeatures\n",
    "from sklearn.metrics import mean_squared_error, mean_absolute_error, make_scorer\n",
    "pd.set_option('display.max_columns', 500)\n",
    "\n",
    "%matplotlib inline"
   ]
  },
  {
   "cell_type": "markdown",
   "metadata": {},
   "source": [
    "### You're A Data Scientist!\n",
    "You are working as a Junior Data Scientist for a professional football (er, Soccer) club.  The owner of the team is very interested in seeing how the use of data can help improve the team's peformance, and perhaps win them a championship!\n",
    "\n",
    "The draft is coming up soon (thats when you get to pick new players for your team), and the owner has asked you to create a model to help score potential draftees.  The model should look at attributes about the player and predict what their \"rating\" will be once they start playing professionally.\n",
    "\n",
    "The football club's data team has provided you with data for 17,993 footballers from the league.  Your job: work with the Senior Data Scientist to build a model or models, perform model selection, and make predictions on players you have not yet seen.\n",
    "\n",
    "### The Dataset\n",
    "\n",
    "The data is stored in a csv file called `footballer_data.csv`.  The data contain 52 columns, including some information about the player, their skills, and their overall measure as an effective footballer.\n",
    "\n",
    "Most features relate to the player's abilities in football related skills, such as passing, shooting, dribbling, etc.  Some features are rated on a 1-5 scale (5 being the best), others are rated on 0-100 (100 being the best), and others still are categorical (e.g. work rate is coded as low, medium, or high).\n",
    "\n",
    "The target variable (or $y$ variable, if you will) is `overall`.  This is an overall measure of the footballer's skill and is rated from 0 to 100.  The most amazingly skilled footballer would be rated 100, where as I would struggle to score more than a 20. The model(s) you build should use the other features to predict `overall`.\n",
    "\n",
    "\n",
    "\n",
    "### Part A\n",
    "\n",
    "Read in the data and take a look at the dataframe.  There should be 52 columns. The outcome of interest is called `overall` which gives an overall measure of player performance. Not all of the other columns are particularly useful for modelling though (for instance, `ID` is just a unique identifier for the player.  This is essentially an arbitrary number and has no bearing on the player's rating).\n",
    "\n",
    "The Senior Data Scientist thinks the following columns should be removed:\n",
    "\n",
    "* ID\n",
    "* club\n",
    "* club_logo\n",
    "* birth_date\n",
    "* flag\n",
    "* nationality\n",
    "* photo\n",
    "* potential\n",
    "\n",
    "The Senior Data Scientist would also like the following columns converted into dummy variables:\n",
    "\n",
    "* work_rate_att\n",
    "* work_rate_def\n",
    "* preferred_foot\n",
    "\n",
    "Clean the data according to the Senior Data Scientist's instructions."
   ]
  },
  {
   "cell_type": "code",
   "execution_count": 2,
   "metadata": {},
   "outputs": [],
   "source": [
    "toDrop = ['ID', 'club', 'club_logo', 'birth_date', 'flag', \n",
    "          'nationality', 'photo', 'potential']\n",
    "\n",
    "df = pd.read_csv('footballer_data.csv').drop(toDrop, axis=1)\n",
    "\n",
    "df = pd.get_dummies(df, drop_first=True)"
   ]
  },
  {
   "cell_type": "markdown",
   "metadata": {},
   "source": [
    "### Part B\n",
    "\n",
    "The data should all be numerical now. Before we begin modelling, it is important to obtain a baseline for the accuracy of our predictive models. Compute the absolute errors resulting if we use the median of the `overall` variable to make predictions. This will serve as our baseline performance. Plot the distribution of the errors and print their mean and standard deviation."
   ]
  },
  {
   "cell_type": "code",
   "execution_count": 3,
   "metadata": {},
   "outputs": [
    {
     "name": "stdout",
     "output_type": "stream",
     "text": [
      "The mean of the errors is: 5.491330443481161\n",
      "The std of the errors is: 4.262004616587558\n"
     ]
    },
    {
     "data": {
      "image/png": "[encoded data removed]",
      "text/plain": [
       "<Figure size 432x288 with 1 Axes>"
      ]
     },
     "metadata": {
      "needs_background": "light"
     },
     "output_type": "display_data"
    }
   ],
   "source": [
    "y = df['overall']\n",
    "\n",
    "X = df.drop(['overall'], axis=1).values\n",
    "\n",
    "yhat = np.ones(len(df))\n",
    "\n",
    "yhat = yhat*df['overall'].median()\n",
    "\n",
    "errs = abs(y-yhat)\n",
    "\n",
    "sns.distplot(errs)\n",
    "\n",
    "print('The mean of the errors is: %s' % errs.mean())\n",
    "print('The std of the errors is: %s' % errs.std())"
   ]
  },
  {
   "cell_type": "markdown",
   "metadata": {},
   "source": [
    "### Part C\n",
    "To prepare the data for modelling, the Senior Data Scientist recomends you use `sklearn.model_selection.train_test_split` to seperate the data into a training set and a test set.\n",
    "\n",
    "The Senior Data Scientist would like to estimate the performance of the final selected model to within +/- 0.25 units using mean absolute error as the loss function of choice.  Decide on an appropriate size for the test set, then use `train_test_split` to split the features and target variables into appropriate sets."
   ]
  },
  {
   "cell_type": "code",
   "execution_count": 4,
   "metadata": {},
   "outputs": [
    {
     "data": {
      "text/plain": [
       "((14905, 45), (14905,), (3089, 45), (3089,))"
      ]
     },
     "execution_count": 4,
     "metadata": {},
     "output_type": "execute_result"
    }
   ],
   "source": [
    "sd_estimate = y.std()\n",
    "\n",
    "n = (2*sd_estimate/0.25)**2\n",
    "\n",
    "tlratio = n/len(df)\n",
    "\n",
    "tlratio\n",
    "\n",
    "X_trainval1, X_test1, y_trainval1, y_test1 = train_test_split(X, y, test_size=tlratio, random_state=1)\n",
    "\n",
    "X_trainval1.shape, y_trainval1.shape, X_test1.shape, y_test1.shape"
   ]
  },
  {
   "cell_type": "markdown",
   "metadata": {},
   "source": [
    "### Part D\n",
    "\n",
    "The Senior Data Scientist wants you to fit a linear regression to the data as a first model.  Use sklearn to build a model pipeline which fits a linear regression to the data. (This will be a very simple, one-step pipeline but we will expand it later.) You can read up on sklearn pipelines [here](https://scikit-learn.org/stable/modules/generated/sklearn.pipeline.Pipeline.html). Note that the sklearn linear regression adds its own intercept so you don't need to create a column of 1s."
   ]
  },
  {
   "cell_type": "code",
   "execution_count": 5,
   "metadata": {},
   "outputs": [],
   "source": [
    "pipeline1 = Pipeline([('linear_regression', LinearRegression())])"
   ]
  },
  {
   "cell_type": "markdown",
   "metadata": {},
   "source": [
    "## Part E\n",
    "\n",
    "The senior data scientist wants a report of this model's cross validation score.  Use 5 fold cross validation to estimate the out of sample performance for this model.  You may find sklearn's `cross_val_score` useful."
   ]
  },
  {
   "cell_type": "code",
   "execution_count": 6,
   "metadata": {},
   "outputs": [
    {
     "data": {
      "text/plain": [
       "(array([1.89980341, 1.94623697, 1.88000659, 1.90735229, 1.87997836]),\n",
       " 1.9026755217311464)"
      ]
     },
     "execution_count": 6,
     "metadata": {},
     "output_type": "execute_result"
    }
   ],
   "source": [
    "cv_scores = cross_val_score(pipeline1, \n",
    "                           X_trainval1, \n",
    "                           y_trainval1, \n",
    "                           cv = 5, \n",
    "                           scoring = make_scorer(mean_absolute_error))\n",
    "cv_scores, cv_scores.mean()"
   ]
  },
  {
   "cell_type": "markdown",
   "metadata": {},
   "source": [
    "### Part F\n",
    "\n",
    "That's impressive!  Your model seems to be very accurate, but now the Senior Data Scientist wants to try and make it more accurate.  Scouts have shared with the Senior Data Scientist that players hit their prime in their late 20s, and as they age they become worse overall.\n",
    "\n",
    "The Senior Data Scientist wants to add a quadratic term for age to the model.  Repeat the steps above (creating a pipeline, validating the model, etc) for a model which includes a quadratic term for age."
   ]
  },
  {
   "cell_type": "code",
   "execution_count": 7,
   "metadata": {},
   "outputs": [
    {
     "data": {
      "text/plain": [
       "(array([1.89569097, 1.92331123, 1.86076835, 1.88606254, 1.8531992 ]),\n",
       " 1.8838064589619425)"
      ]
     },
     "execution_count": 7,
     "metadata": {},
     "output_type": "execute_result"
    }
   ],
   "source": [
    "new_df = df\n",
    "new_df['quad'] = new_df['age']**2\n",
    "\n",
    "new_X = new_df.drop(['overall'], axis=1).values\n",
    "\n",
    "X_trainval2, X_test2, y_trainval2, y_test2 = train_test_split(new_X, y, test_size=tlratio, random_state=1)\n",
    "\n",
    "#X_trainval.shape, y_trainval.shape, X_test.shape, y_test.shape\n",
    "\n",
    "cv_scores = cross_val_score(pipeline1, \n",
    "                           X_trainval2, \n",
    "                           y_trainval2, \n",
    "                           cv = 5, \n",
    "                           scoring = make_scorer(mean_absolute_error))\n",
    "cv_scores, cv_scores.mean()"
   ]
  },
  {
   "cell_type": "markdown",
   "metadata": {},
   "source": [
    "### Part G\n",
    "\n",
    "\n",
    "The Senior Data Scientist isn't too happy that the quadratic term has not improved the fit of the model much and now wants to include quadratic and interaction term for every feature (That's a total of 1080 features!!!!)\n",
    "\n",
    "Add sklearn's `PolynomialFeatures` to your pipeline from part C.  Report the cross validation score."
   ]
  },
  {
   "cell_type": "code",
   "execution_count": 8,
   "metadata": {},
   "outputs": [
    {
     "data": {
      "text/plain": [
       "(array([0.88324671, 0.89797131, 0.89578109, 0.89457882, 0.88339063]),\n",
       " 0.8909937125046984)"
      ]
     },
     "execution_count": 8,
     "metadata": {},
     "output_type": "execute_result"
    }
   ],
   "source": [
    "pipeline2 = Pipeline([('poly', PolynomialFeatures(include_bias=False)),\n",
    "                     ('linear_regression', LinearRegression())])\n",
    "\n",
    "X_trainval3, X_test3, y_trainval3, y_test3 = train_test_split(X, y, test_size=tlratio, random_state=1)\n",
    "\n",
    "cv_scores = cross_val_score(pipeline2, \n",
    "                           X_trainval3, \n",
    "                           y_trainval3, \n",
    "                           cv = 5, \n",
    "                           scoring = make_scorer(mean_absolute_error))\n",
    "cv_scores, cv_scores.mean()"
   ]
  },
  {
   "cell_type": "markdown",
   "metadata": {},
   "source": [
    "### Part H\n",
    "\n",
    "The Senior Data Scientist is really happy with the results of adding every interaction into the model and wants to explore third order interactions (that is adding cubic terms to the model).\n",
    "\n",
    "This is not a good idea!  Talk them down from the ledge.  Write them an email in the cell below explaining what could happen if you add too may interactions.\n",
    "\n",
    "---"
   ]
  },
  {
   "cell_type": "markdown",
   "metadata": {},
   "source": [
    "Hey Boss,\n",
    "\n",
    "I got your email about adding cubic terms to the model.  I know the lower mean absolute error is exciting but this is a result of increasing the parameter space and thus lowering the training loss. This can lead to overfitting and our model won't generalize well to the test set which represents new data that the model has not seen before (simulating real world data).\n",
    "\n",
    "Sincerly,\n",
    "\n",
    "Junior Data Scientist\n",
    "\n"
   ]
  },
  {
   "cell_type": "markdown",
   "metadata": {},
   "source": [
    "### Part I\n",
    "\n",
    "You've successfully talked the Senior Data Scientist out of adding cubic terms to the model. Good job!\n",
    "\n",
    "Based on the cross validation scores, which model would you choose?  Estimate the performance of your chosen model on the test data you held out, and do the following:\n",
    "\n",
    "- Compute a point estimate for the generalization error.\n",
    "- Compute a confidence interval for the generalization error.  \n",
    "- Plot the distribution of the absolute errors.\n",
    "\n",
    "Is the test error close to the cross validation error of the model you chose? Why do you think this is the case?\n"
   ]
  },
  {
   "cell_type": "code",
   "execution_count": 25,
   "metadata": {},
   "outputs": [
    {
     "name": "stdout",
     "output_type": "stream",
     "text": [
      "[0.8412046054090576, 0.9244557300799534]\n",
      "This is the mean absolute test error: 0.8828301677445055\n"
     ]
    }
   ],
   "source": [
    "# Using the model that uses the quadratic age term\n",
    "pipeline2.fit(X_trainval3, y_trainval3)\n",
    "\n",
    "yhat_test = pipeline2.predict(X_test3)\n",
    "\n",
    "loss = y_test3 - yhat_test\n",
    "\n",
    "# Include point estimate of the generalization error\n",
    "\n",
    "generalization_error = mean_absolute_error(y_test3,yhat_test)\n",
    "\n",
    "CI_up = generalization_error + 1.96*np.std(loss)/np.sqrt(len(loss))\n",
    "\n",
    "CI_low = generalization_error - 1.96*np.std(loss)/np.sqrt(len(loss))\n",
    "\n",
    "CI = [CI_low, CI_up]\n",
    "\n",
    "# Compute CI for the generization error\n",
    "\n",
    "\n",
    "print(CI)\n",
    "\n",
    "\n",
    "\n",
    "# Plot distribution of absolute errors\n",
    "\n",
    "print('This is the mean absolute test error: %s' % generalization_error)\n",
    "\n",
    "#sns.distplot(mean_absolute_error(y_test3,yhat_test))\n",
    "\n",
    "# point estimate of generalization error is the is the mean of the mean error of the losses\n",
    "\n",
    "# sd of generalization error is the std of the losses"
   ]
  },
  {
   "cell_type": "markdown",
   "metadata": {},
   "source": [
    "I chose the model that includes the quadratic age term. I made this decision because we were given domain knowledge about how age effects player performance and I think 46 features is plenty given the amount of data we have. The cross validation score is very similar to that of the mean absolute test error, this means that our model is generalizing well to the training set."
   ]
  },
  {
   "cell_type": "code",
   "execution_count": null,
   "metadata": {},
   "outputs": [],
   "source": []
  }
 ],
 "metadata": {
  "kernelspec": {
   "display_name": "Python 3",
   "language": "python",
   "name": "python3"
  },
  "language_info": {
   "codemirror_mode": {
    "name": "ipython",
    "version": 3
   },
   "file_extension": ".py",
   "mimetype": "text/x-python",
   "name": "python",
   "nbconvert_exporter": "python",
   "pygments_lexer": "ipython3",
   "version": "3.6.9"
  }
 },
 "nbformat": 4,
 "nbformat_minor": 4
}
