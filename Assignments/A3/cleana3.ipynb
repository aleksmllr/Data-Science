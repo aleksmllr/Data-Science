{
 "cells": [
  {
   "cell_type": "markdown",
   "metadata": {
    "nbgrader": {
     "grade": false,
     "grade_id": "cell-1ee82c1ef2b682223",
     "locked": true,
     "schema_version": 1,
     "solution": false
    }
   },
   "source": [
    "# Assignment 3: Confidence Intervals & The Bootstrap\n",
    "\n",
    "### Instructions\n",
    "\n",
    "This assignment is much like the last.\n",
    "\n",
    "* This assignment includes some tests to help you make sure that your implementation is correct.  When you see a cell with `assert` commands, these are tests.\n",
    "\n",
    "* Once you have completed the assignment, delete the cells which have these `assert` commands.  You will not need them.\n",
    "\n",
    "* When you are done and have answered all the questions, convert this notebook to a .py file using `File > Download as > Python (.py)`.  Name your submission `assignment3.py` and submit it to OWL.\n",
    "\n",
    "Failure to comply may resilt in you not earning full marks for your assignment.  We want you to earn full marks!  Please follow these instructions carefully."
   ]
  },
  {
   "cell_type": "markdown",
   "metadata": {},
   "source": [
    "# Question 1\n",
    "\n",
    "### Part A\n",
    "\n",
    "Recall from theclture that a $199(1-\\alpha)\\%$ confidence interval for the mean is \n",
    "\n",
    "$$ \\bar{x} \\pm  t_{1-\\alpha/2, n-1} \\dfrac{\\hat{\\sigma}}{\\sqrt{n}} $$\n",
    "\n",
    "Where $ t_{1-\\alpha/2, n-1}$ is the appropiorate quantile of a Student's t distribution with $n-1$ degrees of freedom.  When $\\alpha = 0.05$ and when $n$ is big enough, $ t_{1-\\alpha/2, n-1} \\approx 1.96$.  \n",
    "\n",
    "Write a function called `confidence_interval` which takes as it's argument an array of data called `data` and returns two things:\n",
    "\n",
    "* An estimated mean of `data`, and \n",
    "\n",
    "* The lower and upper bounds of the 95% confidence interval for the mean of `data`.  Ensure these are returned in a numpy array of shape (2,)"
   ]
  },
  {
   "cell_type": "code",
   "execution_count": 2,
   "metadata": {
    "nbgrader": {
     "grade": false,
     "grade_id": "cell-f53c53f0b823418d",
     "locked": false,
     "schema_version": 1,
     "solution": true
    }
   },
   "outputs": [],
   "source": [
    "#It's dangerous to go alone.  Take these\n",
    "import numpy as np\n",
    "from scipy.stats import t\n",
    "import matplotlib.pyplot as plt\n",
    "import statsmodels.formula.api as sm\n",
    "import pandas as pd\n",
    "\n",
    "\n",
    "def confidence_interval(data):\n",
    "    '''\n",
    "    Function to compute confidence interval (ci).\n",
    "    \n",
    "    Inputs:\n",
    "    data - ndarray.  Data to be used to compute the interval\n",
    "    \n",
    "    Outputs:\n",
    "    estimated_mean - float.  The mean of the data\n",
    "    bounds - array. An array of length 2 where bounds[0] is the lower bound and bounds[1] is the upper bound for the ci.\n",
    "    '''\n",
    "    ### BEGIN SOLUTION\n",
    "\n",
    "    ### END SOLUTION\n",
    "    \n",
    "    return estimated_mean, bounds"
   ]
  },
  {
   "cell_type": "markdown",
   "metadata": {
    "nbgrader": {
     "grade": false,
     "grade_id": "cell-3a47bd745c9dc1d6",
     "locked": true,
     "schema_version": 1,
     "solution": false
    }
   },
   "source": [
    "### Tests\n",
    "\n",
    "Tests are to make sure you've implemented the solution correctly.  If these tests pass without any `AsserstionError`'s, then you can be confident that you've implemented the solution as expected.\n",
    "\n",
    "Once you're happy with your implementation, delete the cell below."
   ]
  },
  {
   "cell_type": "code",
   "execution_count": 2,
   "metadata": {
    "nbgrader": {
     "grade": true,
     "grade_id": "cell-31a64385d1ce26b5",
     "locked": true,
     "points": 3,
     "schema_version": 1,
     "solution": false
    }
   },
   "outputs": [],
   "source": [
    "#Ensure confidence_interval returns two objets\n",
    "test_data = np.array([-1,0,1])\n",
    "\n",
    "#Do you return two objects?\n",
    "assert len(confidence_interval(test_data))==2\n",
    "\n",
    "#Is the first a float and the second an array?\n",
    "obj_1, obj_2 = confidence_interval(test_data)\n",
    "assert isinstance(obj_1, np.float)\n",
    "assert isinstance(obj_2, np.ndarray)\n",
    "\n",
    "#Did you compute the mean correctly?\n",
    "assert obj_1==0\n",
    "\n",
    "#Did you use the appropriate degrees of freedom?\n",
    "test_ci = np.array([-2.028, 2.028])\n",
    "np.testing.assert_array_almost_equal(obj_2, test_ci, decimal = 3)"
   ]
  },
  {
   "cell_type": "markdown",
   "metadata": {},
   "source": [
    "### Part B\n",
    "\n",
    "The \"95% confidence interval\" is named so because the long term relative frequency of these estimtors containing the true estimand is 95%.  That is to say **if I construct 95% confidence intervals for the sample mean again and again from the same data generating mechanism, 95% of the intervals I construct will contain the population mean**.\n",
    "\n",
    "Write a function called `ci_simulation` that runs some simulations to show this is the case.  From a standard normal distirbution, sample 25 observations and construct a confidence interval.  Do this 20 times and plot the intervals using `matplotlib.pyplot.errorbar`. Save your plot under the name `ci_simulation.png`.  Color the bar red if the confidence interval does not caputre the true mean and blue if it does.  If you are unfamilliar with `matplotlib.pyplot.errorbar`, I highly suggest reading Matplotlib's excellent documentation."
   ]
  },
  {
   "cell_type": "code",
   "execution_count": 3,
   "metadata": {
    "nbgrader": {
     "grade": false,
     "grade_id": "5",
     "locked": false,
     "schema_version": 1,
     "solution": true
    }
   },
   "outputs": [
    {
     "data": {
      "image/png": "[encoded data removed]",
      "text/plain": [
       "<Figure size 720x480 with 1 Axes>"
      ]
     },
     "metadata": {
      "needs_background": "light"
     },
     "output_type": "display_data"
    }
   ],
   "source": [
    "\n",
    "def ci_simulation():\n",
    "    # Reporducibility.  Do not change this!\n",
    "    np.random.seed(3)\n",
    "    \n",
    "    # Create the figure.\n",
    "    fig, ax = plt.subplots(dpi = 120)\n",
    "\n",
    "    # If the interval crosses this line, it should be blue, else red.\n",
    "    ax.axhline(0, color = 'k')\n",
    "    \n",
    "    ### BEGIN SOLUTION\n",
    "\n",
    "\n",
    "    ### END SOLUTION\n",
    "    # This function does not have to return anything\n",
    "    return None\n",
    "\n",
    "ci_simulation()"
   ]
  },
  {
   "cell_type": "markdown",
   "metadata": {
    "nbgrader": {
     "grade": false,
     "grade_id": "4",
     "locked": true,
     "schema_version": 1,
     "solution": false
    }
   },
   "source": [
    "### Part C\n",
    "\n",
    "If you haven't changed the random seed from 3 and if you implemented the solution correctly, you should two red intervals.\n",
    "\n",
    "Answer the following below in 1-2 sentences:\n",
    "\n",
    "1) How many red intervals did we expect to see?  What is your justifiation for this?\n",
    "\n",
    "2) If there is a discrepency between the number of observed and expected red intervals, what explains this difference?\n"
   ]
  },
  {
   "cell_type": "markdown",
   "metadata": {},
   "source": [
    "### Part D\n",
    "\n",
    "How many samples would we need in order to ensure that our constructed confidence interval is approximately 0.1 units long? \n",
    "\n",
    "Write a function called `num_propper_length` which takes as its only argument an integer `n`.  `num_propper_length` should simulate 1000 datasets of length `n`, compute confidence intervals for those datasets, compute the lengths of those intervals, and then returns the number of intervals which are no longer than 0.1 units.\n",
    "\n",
    "Determine how many samples you need (that is, compute `n`).  Set this as your default argument for `n` in `num_propper_length`."
   ]
  },
  {
   "cell_type": "code",
   "execution_count": 4,
   "metadata": {
    "nbgrader": {
     "grade": false,
     "grade_id": "3",
     "locked": false,
     "schema_version": 1,
     "solution": true
    }
   },
   "outputs": [],
   "source": [
    "def num_propper_length(n=1600):\n",
    "    '''\n",
    "    Function to simulate how many confidence intervals would be no longer than 0.1 units long if\n",
    "    we sampled n observatiosn from a standard normal.\n",
    "    \n",
    "    Inputs:\n",
    "        n - int.  Number of draws to make from the standard normal\n",
    "        \n",
    "    Outputs:\n",
    "        prop_long_enough - float (between 0 and 1).  Proportion of consutrcuted intervals which are no longer than 0.1.\n",
    "    '''\n",
    "    # For reproducibility.  Don't change this!\n",
    "    np.random.seed(0)\n",
    "    \n",
    "    ### BEGIN SOLUTION\n",
    "\n",
    "      \n",
    "    ### END SOLUTION\n",
    "    return prop_long_enough"
   ]
  },
  {
   "cell_type": "markdown",
   "metadata": {},
   "source": [
    "### Tests\n",
    "\n",
    "Tests are to make sure you've implemented the solution correctly.  If these tests pass without any `AsserstionError`'s, then you can be confident that you've implemented the solution as expected.\n",
    "\n",
    "Once you're happy with your implementation, delete the cell below."
   ]
  },
  {
   "cell_type": "code",
   "execution_count": 5,
   "metadata": {},
   "outputs": [
    {
     "data": {
      "text/plain": [
       "1000"
      ]
     },
     "execution_count": 5,
     "metadata": {},
     "output_type": "execute_result"
    }
   ],
   "source": [
    "assert num_propper_length()==891\n",
    "\n",
    "num_propper_length(n = 2000)"
   ]
  },
  {
   "cell_type": "markdown",
   "metadata": {
    "nbgrader": {
     "grade": false,
     "grade_id": "cell-b6ce0fb1dc86f79f",
     "locked": true,
     "schema_version": 1,
     "solution": false
    }
   },
   "source": [
    "### Part E\n",
    "If you chose the right `n`, you should find that 891 (or approximately 89%) of your intervals are longer than 0.1.  \n",
    "\n",
    "Why is this?  Answer below in 1-2 sentences.\n"
   ]
  },
  {
   "cell_type": "markdown",
   "metadata": {},
   "source": [
    "---"
   ]
  },
  {
   "cell_type": "markdown",
   "metadata": {
    "nbgrader": {
     "grade": false,
     "grade_id": "cell-c71a19b0908a6c59",
     "locked": true,
     "schema_version": 1,
     "solution": false
    }
   },
   "source": [
    "## Question 2\n",
    "\n",
    "### Part A\n",
    "The dataset `hockey_stats.csv` contains information about information about hockey draftees.  We'll use this data to investigate the relationship between height and age on weight.  Load it into python using pandas.\n",
    "\n",
    "Load in the `hockey_draftees_train.csv` data into pandas.  Fit a linear model of weight (`wt`) explained by height (`ht`) and age(`age`).  Call your fitted model `model`."
   ]
  },
  {
   "cell_type": "code",
   "execution_count": 6,
   "metadata": {
    "nbgrader": {
     "grade": false,
     "grade_id": "1",
     "locked": false,
     "schema_version": 1,
     "solution": true
    }
   },
   "outputs": [],
   "source": [
    "### BEGIN SOLUTION\n",
    "\n",
    "\n",
    "\n",
    "### END SOLUTION"
   ]
  },
  {
   "cell_type": "markdown",
   "metadata": {
    "nbgrader": {
     "grade": false,
     "grade_id": "cell-e426eb6a66d998df",
     "locked": true,
     "schema_version": 1,
     "solution": false
    }
   },
   "source": [
    "### Part B\n",
    "\n",
    "Print out the R-squared for this model\n"
   ]
  },
  {
   "cell_type": "code",
   "execution_count": 7,
   "metadata": {},
   "outputs": [
    {
     "name": "stdout",
     "output_type": "stream",
     "text": [
      "Training rsquared is  0.31407479140429084\n"
     ]
    }
   ],
   "source": [
    "\n",
    "\n",
    "print('Training rsquared is ',model.rsquared)\n",
    "\n"
   ]
  },
  {
   "cell_type": "markdown",
   "metadata": {},
   "source": [
    "### Part C\n",
    "\n",
    "Now, let's see how well our model performs out of sample.  Load in the `hockey_draftees_test.csv` file into a dataframe.  Use your `model` to make predictions, and print the r-squared on the out of sample (oos) data."
   ]
  },
  {
   "cell_type": "code",
   "execution_count": 8,
   "metadata": {},
   "outputs": [
    {
     "name": "stdout",
     "output_type": "stream",
     "text": [
      "Out of sample rsquared is  0.3313198566514667\n"
     ]
    }
   ],
   "source": [
    "### BEGIN SOLUTION\n",
    "\n",
    "\n",
    "### END SOLUTION\n",
    "\n",
    "print('Out of sample rsquared is ', rsquared_oos)\n"
   ]
  },
  {
   "cell_type": "markdown",
   "metadata": {},
   "source": [
    "### Part D\n",
    "\n",
    "A point estimate of the rsquared is nice, but what we really want is uncertainty estimates.  For that, we need a confidence interval.  To estimate how uncertain we are in our out of sample r-squared, let's use the bootstrap.\n",
    "\n",
    "Write a function called `bootstrap` which takes three arguments:\n",
    "\n",
    "* `data`, which is a dataframe, and \n",
    "* `model` which is an statsmodel ols model. `data` should look the the data `model` was trained on so that we can use `model` to make predictions on `data`.\n",
    "* `numboot` which is an integer denoting how many bootstrap replications to perform.\n",
    "\n",
    "Write `bootstrap` to perform bootstrap resampling for the out of sample r-squared.  You can use `pd.DataFrame.sample` with `replace = True` to perform the resampling.\n",
    "\n",
    "`bootstrap` should return a numpy array of bootstraped rsquared values.\n",
    "\n"
   ]
  },
  {
   "cell_type": "code",
   "execution_count": 9,
   "metadata": {
    "nbgrader": {
     "grade": false,
     "grade_id": "2",
     "locked": false,
     "schema_version": 1,
     "solution": true
    }
   },
   "outputs": [],
   "source": [
    "def bootstrap(data, model, numboot):\n",
    "    '''\n",
    "    Function to bootstrap the r-squared for a linear model\n",
    "    \n",
    "    Inputs:\n",
    "        data - dataframe.  Data on which model can predict.\n",
    "        model - statsmodel ols.  Linear model of weight explained by height and age.  Can predict on data.\n",
    "        numboot - int.  Number of bootstrap replications.\n",
    "    \n",
    "    Outputs:\n",
    "        bootstrapped_rsquared - array.  An array of size (numboot, ) which contains oos bootstrapped rsquared values.\n",
    "    \n",
    "    '''\n",
    "    ### BEGIN SOLUTION\n",
    "\n",
    "    ### END SOLUTION\n",
    "\n",
    "    return bootstrapped_rsquared\n"
   ]
  },
  {
   "cell_type": "markdown",
   "metadata": {},
   "source": [
    "### Part E\n",
    "\n",
    "Use your `bootstrap` function to plot 10,000 bootstrap replicates as a histogram."
   ]
  },
  {
   "cell_type": "code",
   "execution_count": 12,
   "metadata": {},
   "outputs": [
    {
     "data": {
      "text/plain": [
       "(array([1.000e+00, 8.000e+00, 8.600e+01, 4.310e+02, 1.425e+03, 2.835e+03,\n",
       "        2.937e+03, 1.721e+03, 4.910e+02, 6.500e+01]),\n",
       " array([0.21458464, 0.23368726, 0.25278988, 0.2718925 , 0.29099512,\n",
       "        0.31009774, 0.32920036, 0.34830298, 0.3674056 , 0.38650822,\n",
       "        0.40561083]),\n",
       " <a list of 10 Patch objects>)"
      ]
     },
     "execution_count": 12,
     "metadata": {},
     "output_type": "execute_result"
    },
    {
     "data": {
      "image/png": "[encoded data removed]",
      "text/plain": [
       "<Figure size 432x288 with 1 Axes>"
      ]
     },
     "metadata": {
      "needs_background": "light"
     },
     "output_type": "display_data"
    }
   ],
   "source": [
    "### BEGIN SOLUTION\n",
    "\n",
    "### END SOLUTION"
   ]
  },
  {
   "cell_type": "markdown",
   "metadata": {},
   "source": [
    "### Part F\n",
    "\n",
    "Use your bootstrap replicates to estimates to obtain a bootstrapped 95% confidence interval.  Call the upper confidence bound `ci_upper` and the lower confidence bound `ci_lower`."
   ]
  },
  {
   "cell_type": "code",
   "execution_count": 11,
   "metadata": {},
   "outputs": [
    {
     "name": "stdout",
     "output_type": "stream",
     "text": [
      "My confidence interval is between 0.28066634803737944  and  0.37642936140774985\n"
     ]
    }
   ],
   "source": [
    "### BEGIN SOLUTIOn\n",
    "\n",
    "\n",
    "\n",
    "### END SOLUTION\n",
    "\n",
    "print('My confidence interval is between', ci_lower, ' and ', ci_upper)"
   ]
  },
  {
   "cell_type": "code",
   "execution_count": null,
   "metadata": {},
   "outputs": [],
   "source": []
  },
  {
   "cell_type": "code",
   "execution_count": null,
   "metadata": {},
   "outputs": [],
   "source": []
  }
 ],
 "metadata": {
  "celltoolbar": "Create Assignment",
  "kernelspec": {
   "display_name": "Python 3",
   "language": "python",
   "name": "python3"
  },
  "language_info": {
   "codemirror_mode": {
    "name": "ipython",
    "version": 3
   },
   "file_extension": ".py",
   "mimetype": "text/x-python",
   "name": "python",
   "nbconvert_exporter": "python",
   "pygments_lexer": "ipython3",
   "version": "3.6.9"
  }
 },
 "nbformat": 4,
 "nbformat_minor": 2
}
