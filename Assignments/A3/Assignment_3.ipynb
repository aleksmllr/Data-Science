{
 "cells": [
  {
   "cell_type": "markdown",
   "metadata": {
    "nbgrader": {
     "grade": false,
     "grade_id": "cell-1ee82c1ef2b682223",
     "locked": true,
     "schema_version": 1,
     "solution": false
    }
   },
   "source": [
    "# Assignment 3: Confidence Intervals & The Bootstrap\n",
    "\n",
    "### Instructions\n",
    "\n",
    "This assignment is much like the last.\n",
    "\n",
    "* This assignment includes some tests to help you make sure that your implementation is correct.  When you see a cell with `assert` commands, these are tests.\n",
    "\n",
    "* Once you have completed the assignment, delete the cells which have these `assert` commands.  You will not need them.\n",
    "\n",
    "* When you are done and have answered all the questions, convert this notebook to a .py file using `File > Download as > Python (.py)`.  Name your submission `assignment3.py` and submit it to OWL.\n",
    "\n",
    "Failure to comply may resilt in you not earning full marks for your assignment.  We want you to earn full marks!  Please follow these instructions carefully."
   ]
  },
  {
   "cell_type": "markdown",
   "metadata": {},
   "source": [
    "# Question 1\n",
    "\n",
    "### Part A\n",
    "\n",
    "Recall from the lecture that a $100(1-\\alpha)\\%$ confidence interval for the mean is \n",
    "\n",
    "$$ \\bar{x} \\pm  t_{1-\\alpha/2, n-1} \\dfrac{\\hat{\\sigma}}{\\sqrt{n}} $$\n",
    "\n",
    "Where $ t_{1-\\alpha/2, n-1}$ is the appropiorate quantile of a Student's t distribution with $n-1$ degrees of freedom.  When $\\alpha = 0.05$ and when $n$ is big enough, $ t_{1-\\alpha/2, n-1} \\approx 1.96$.  \n",
    "\n",
    "Write a function called `confidence_interval` which takes as it's argument an array of data called `data` and returns two things:\n",
    "\n",
    "* An estimated mean of `data`, and \n",
    "\n",
    "* The lower and upper bounds of the 95% confidence interval for the mean of `data`.  Ensure these are returned in a numpy array of shape (2,)"
   ]
  },
  {
   "cell_type": "code",
   "execution_count": 56,
   "metadata": {
    "nbgrader": {
     "grade": false,
     "grade_id": "cell-f53c53f0b823418d",
     "locked": false,
     "schema_version": 1,
     "solution": true
    }
   },
   "outputs": [],
   "source": [
    "#It's dangerous to go alone.  Take these\n",
    "import numpy as np\n",
    "from scipy.stats import t\n",
    "import matplotlib.pyplot as plt\n",
    "import statsmodels.formula.api as sm\n",
    "import pandas as pd\n",
    "import seaborn as sns\n",
    "\n",
    "\n",
    "def confidence_interval(data):\n",
    "    '''\n",
    "    Function to compute confidence interval (ci).\n",
    "    \n",
    "    Inputs:\n",
    "    data - ndarray.  Data to be used to compute the interval\n",
    "    \n",
    "    Outputs:\n",
    "    estimated_mean - float.  The mean of the data\n",
    "    bounds - array. An array of length 2 where bounds[0] is the lower bound and bounds[1] is the upper bound for the ci.\n",
    "    '''\n",
    "    ### BEGIN SOLUTION\n",
    "    estimated_mean = data.mean()\n",
    "    df = len(data) - 1\n",
    "    critval = t.ppf(0.975, df=df)\n",
    "    stderr = np.std(data)/np.sqrt(len(data))\n",
    "    bounds = np.array([data.mean() - stderr*critval,\n",
    "           data.mean() + stderr*critval])\n",
    "    \n",
    "    \n",
    "    ### END SOLUTION\n",
    "    \n",
    "    return estimated_mean, bounds"
   ]
  },
  {
   "cell_type": "code",
   "execution_count": 3,
   "metadata": {},
   "outputs": [
    {
     "data": {
      "text/plain": [
       "(0.0, array([-2.02828995,  2.02828995]))"
      ]
     },
     "execution_count": 3,
     "metadata": {},
     "output_type": "execute_result"
    }
   ],
   "source": [
    "confidence_interval(np.array([-1,0,1]))"
   ]
  },
  {
   "cell_type": "markdown",
   "metadata": {
    "nbgrader": {
     "grade": false,
     "grade_id": "cell-3a47bd745c9dc1d6",
     "locked": true,
     "schema_version": 1,
     "solution": false
    }
   },
   "source": [
    "### Tests\n",
    "\n",
    "Tests are to make sure you've implemented the solution correctly.  If these tests pass without any `AsserstionError`'s, then you can be confident that you've implemented the solution as expected.\n",
    "\n",
    "Once you're happy with your implementation, delete the cell below."
   ]
  },
  {
   "cell_type": "markdown",
   "metadata": {},
   "source": [
    "### Part B\n",
    "\n",
    "The \"95% confidence interval\" is named so because the long term relative frequency of these estimtors containing the true estimand is 95%.  That is to say **if I construct 95% confidence intervals for the sample mean again and again from the same data generating mechanism, 95% of the intervals I construct will contain the population mean**.\n",
    "\n",
    "Write a function called `ci_simulation` that runs some simulations to show this is the case.  From a standard normal distirbution, sample 25 observations and construct a confidence interval.  Do this 20 times and plot the intervals using `matplotlib.pyplot.errorbar`. Save your plot under the name `ci_simulation.png`.  Color the bar red if the confidence interval does not caputre the true mean and blue if it does.  If you are unfamilliar with `matplotlib.pyplot.errorbar`, I highly suggest reading Matplotlib's excellent documentation."
   ]
  },
  {
   "cell_type": "code",
   "execution_count": 5,
   "metadata": {
    "nbgrader": {
     "grade": false,
     "grade_id": "5",
     "locked": false,
     "schema_version": 1,
     "solution": true
    }
   },
   "outputs": [
    {
     "data": {
      "image/png": "[encoded data removed]",
      "text/plain": [
       "<Figure size 720x480 with 1 Axes>"
      ]
     },
     "metadata": {
      "needs_background": "light"
     },
     "output_type": "display_data"
    }
   ],
   "source": [
    "def ci_simulation():\n",
    "    # Reproducibility.  Do not change this!\n",
    "    np.random.seed(3)\n",
    "    \n",
    "    # Create the figure.\n",
    "    fig, ax = plt.subplots(dpi = 120)\n",
    "\n",
    "    # If the interval crosses this line, it should be blue, else red.\n",
    "    ax.axhline(0, color = 'k')\n",
    "    \n",
    "    ### BEGIN SOLUTION\n",
    "    mu, sigma = 0, 1\n",
    "    n = 25\n",
    "    \n",
    "    for i in range(20):\n",
    "        data = np.random.normal(mu, sigma, n)#, replace=True) # sample n obs. from a normal distribution\n",
    "        _, ci = confidence_interval(data) # compute CI for sample\n",
    "        if ci[0] > 0 or ci[1] < 0:\n",
    "            plt.errorbar(i, data.mean(), yerr=(ci[1]-ci[0])/2, ecolor='r',\n",
    "                        fmt='o-r')\n",
    "        else:\n",
    "            plt.errorbar(i, data.mean(), yerr=(ci[1]-ci[0])/2, ecolor='b',\n",
    "                        fmt='o-b')\n",
    "        \n",
    "        \n",
    "    ### END SOLUTION\n",
    "    # This function does not have to return anything\n",
    "    return None\n",
    "\n",
    "ci_simulation()"
   ]
  },
  {
   "cell_type": "markdown",
   "metadata": {
    "nbgrader": {
     "grade": false,
     "grade_id": "4",
     "locked": true,
     "schema_version": 1,
     "solution": false
    }
   },
   "source": [
    "### Part C\n",
    "\n",
    "If you haven't changed the random seed from 3 and if you implemented the solution correctly, you should two red intervals.\n",
    "\n",
    "Answer the following below in 1-2 sentences:\n",
    "\n",
    "1) How many red intervals did we expect to see?  What is your justifiation for this?\n",
    "\n",
    "2) If there is a discrepency between the number of observed and expected red intervals, what explains this difference?\n",
    "\n",
    "### Answers\n",
    "\n",
    "1) We expected 1 interval. 5% of 20 is 1, so we expect 1 of the intervals to be wrong.\n",
    "\n",
    "2) Random sampling."
   ]
  },
  {
   "cell_type": "markdown",
   "metadata": {},
   "source": [
    "### Part D\n",
    "\n",
    "How many samples would we need in order to ensure that our constructed confidence interval is approximately 0.1 units long? \n",
    "\n",
    "Write a function called `num_propper_length` which takes as its only argument an integer `n`.  `num_propper_length` should simulate 1000 datasets of length `n`, compute confidence intervals for those datasets, compute the lengths of those intervals, and then returns the number of intervals which are no longer than 0.1 units.\n",
    "\n",
    "Determine how many samples you need (that is, compute `n`).  Set this as your default argument for `n` in `num_propper_length`."
   ]
  },
  {
   "cell_type": "code",
   "execution_count": 2,
   "metadata": {},
   "outputs": [
    {
     "data": {
      "text/plain": [
       "400.0"
      ]
     },
     "execution_count": 2,
     "metadata": {},
     "output_type": "execute_result"
    }
   ],
   "source": [
    "(2*1/0.1)**2"
   ]
  },
  {
   "cell_type": "code",
   "execution_count": 7,
   "metadata": {
    "nbgrader": {
     "grade": false,
     "grade_id": "3",
     "locked": false,
     "schema_version": 1,
     "solution": true
    }
   },
   "outputs": [
    {
     "data": {
      "text/plain": [
       "891"
      ]
     },
     "execution_count": 7,
     "metadata": {},
     "output_type": "execute_result"
    }
   ],
   "source": [
    "def num_propper_length(n=1600):\n",
    "    '''\n",
    "    Function to simulate how many out of 1000 confidence intervals\n",
    "   would be no longer than 0.1 units long if\n",
    "    we sampled n observations from a standard normal.\n",
    "    \n",
    "    Inputs:\n",
    "        n - int.  Number of draws to make from the standard normal\n",
    "        \n",
    "    Outputs:\n",
    "        num_long_enough - integer.  Number of constructed intervals which are no longer than 0.1.\n",
    "    '''\n",
    "    # For reproducibility.  Don't change this!\n",
    "    np.random.seed(0)\n",
    "    \n",
    "    ### BEGIN SOLUTION\n",
    "    num_long_enough = 0\n",
    "    for i in range(1000):\n",
    "        data = np.random.normal(0, 1, n)#, replace=True) # sample n obs. from a normal distribution\n",
    "        _, ci = confidence_interval(data)\n",
    "        if ci[1] - ci[0] <= 0.1:\n",
    "            num_long_enough += 1\n",
    "\n",
    "    ### END SOLUTION\n",
    "    return num_long_enough\n",
    "\n",
    "num_propper_length(n=1600)"
   ]
  },
  {
   "cell_type": "markdown",
   "metadata": {},
   "source": [
    "### Tests\n",
    "\n",
    "Tests are to make sure you've implemented the solution correctly.  If these tests pass without any `AsserstionError`'s, then you can be confident that you've implemented the solution as expected.\n",
    "\n",
    "Once you're happy with your implementation, delete the cell below."
   ]
  },
  {
   "cell_type": "markdown",
   "metadata": {
    "nbgrader": {
     "grade": false,
     "grade_id": "cell-b6ce0fb1dc86f79f",
     "locked": true,
     "schema_version": 1,
     "solution": false
    }
   },
   "source": [
    "### Part E\n",
    "If you chose the right `n`, you should find that 891 (or approximately 89%) of your intervals are longer than 0.1.  \n",
    "\n",
    "Why is this?  Answer below in 1-2 sentences.\n",
    "\n",
    "### Answer:\n",
    "\n",
    "Random sampling."
   ]
  },
  {
   "cell_type": "markdown",
   "metadata": {},
   "source": [
    "---"
   ]
  },
  {
   "cell_type": "markdown",
   "metadata": {
    "nbgrader": {
     "grade": false,
     "grade_id": "cell-c71a19b0908a6c59",
     "locked": true,
     "schema_version": 1,
     "solution": false
    }
   },
   "source": [
    "## Question 2\n",
    "\n",
    "### Part A\n",
    "The dataset `hockey_stats.csv` contains information about information about hockey draftees.  We'll use this data to investigate the relationship between height and age on weight.  Load it into python using pandas.\n",
    "\n",
    "Load in the `hockey_draftees_train.csv` data into pandas.  Fit a linear model of weight (`wt`) explained by height (`ht`) and age(`age`).  Call your fitted model `model`."
   ]
  },
  {
   "cell_type": "code",
   "execution_count": 28,
   "metadata": {
    "nbgrader": {
     "grade": false,
     "grade_id": "1",
     "locked": false,
     "schema_version": 1,
     "solution": true
    }
   },
   "outputs": [
    {
     "data": {
      "text/html": [
       "<table class=\"simpletable\">\n",
       "<caption>OLS Regression Results</caption>\n",
       "<tr>\n",
       "  <th>Dep. Variable:</th>           <td>wt</td>        <th>  R-squared:         </th> <td>   0.314</td> \n",
       "</tr>\n",
       "<tr>\n",
       "  <th>Model:</th>                   <td>OLS</td>       <th>  Adj. R-squared:    </th> <td>   0.313</td> \n",
       "</tr>\n",
       "<tr>\n",
       "  <th>Method:</th>             <td>Least Squares</td>  <th>  F-statistic:       </th> <td>   375.9</td> \n",
       "</tr>\n",
       "<tr>\n",
       "  <th>Date:</th>             <td>Fri, 27 Sep 2019</td> <th>  Prob (F-statistic):</th> <td>3.83e-135</td>\n",
       "</tr>\n",
       "<tr>\n",
       "  <th>Time:</th>                 <td>13:41:50</td>     <th>  Log-Likelihood:    </th> <td> -6563.1</td> \n",
       "</tr>\n",
       "<tr>\n",
       "  <th>No. Observations:</th>      <td>  1645</td>      <th>  AIC:               </th> <td>1.313e+04</td>\n",
       "</tr>\n",
       "<tr>\n",
       "  <th>Df Residuals:</th>          <td>  1642</td>      <th>  BIC:               </th> <td>1.315e+04</td>\n",
       "</tr>\n",
       "<tr>\n",
       "  <th>Df Model:</th>              <td>     2</td>      <th>                     </th>     <td> </td>    \n",
       "</tr>\n",
       "<tr>\n",
       "  <th>Covariance Type:</th>      <td>nonrobust</td>    <th>                     </th>     <td> </td>    \n",
       "</tr>\n",
       "</table>\n",
       "<table class=\"simpletable\">\n",
       "<tr>\n",
       "      <td></td>         <th>coef</th>     <th>std err</th>      <th>t</th>      <th>P>|t|</th>  <th>[0.025</th>    <th>0.975]</th>  \n",
       "</tr>\n",
       "<tr>\n",
       "  <th>Intercept</th> <td> -132.9486</td> <td>   14.706</td> <td>   -9.040</td> <td> 0.000</td> <td> -161.793</td> <td> -104.104</td>\n",
       "</tr>\n",
       "<tr>\n",
       "  <th>ht</th>        <td>    4.2552</td> <td>    0.156</td> <td>   27.359</td> <td> 0.000</td> <td>    3.950</td> <td>    4.560</td>\n",
       "</tr>\n",
       "<tr>\n",
       "  <th>age</th>       <td>    0.6959</td> <td>    0.521</td> <td>    1.335</td> <td> 0.182</td> <td>   -0.327</td> <td>    1.719</td>\n",
       "</tr>\n",
       "</table>\n",
       "<table class=\"simpletable\">\n",
       "<tr>\n",
       "  <th>Omnibus:</th>       <td> 2.123</td> <th>  Durbin-Watson:     </th> <td>   1.932</td>\n",
       "</tr>\n",
       "<tr>\n",
       "  <th>Prob(Omnibus):</th> <td> 0.346</td> <th>  Jarque-Bera (JB):  </th> <td>   2.186</td>\n",
       "</tr>\n",
       "<tr>\n",
       "  <th>Skew:</th>          <td> 0.080</td> <th>  Prob(JB):          </th> <td>   0.335</td>\n",
       "</tr>\n",
       "<tr>\n",
       "  <th>Kurtosis:</th>      <td> 2.920</td> <th>  Cond. No.          </th> <td>3.43e+03</td>\n",
       "</tr>\n",
       "</table><br/><br/>Warnings:<br/>[1] Standard Errors assume that the covariance matrix of the errors is correctly specified.<br/>[2] The condition number is large, 3.43e+03. This might indicate that there are<br/>strong multicollinearity or other numerical problems."
      ],
      "text/plain": [
       "<class 'statsmodels.iolib.summary.Summary'>\n",
       "\"\"\"\n",
       "                            OLS Regression Results                            \n",
       "==============================================================================\n",
       "Dep. Variable:                     wt   R-squared:                       0.314\n",
       "Model:                            OLS   Adj. R-squared:                  0.313\n",
       "Method:                 Least Squares   F-statistic:                     375.9\n",
       "Date:                Fri, 27 Sep 2019   Prob (F-statistic):          3.83e-135\n",
       "Time:                        13:41:50   Log-Likelihood:                -6563.1\n",
       "No. Observations:                1645   AIC:                         1.313e+04\n",
       "Df Residuals:                    1642   BIC:                         1.315e+04\n",
       "Df Model:                           2                                         \n",
       "Covariance Type:            nonrobust                                         \n",
       "==============================================================================\n",
       "                 coef    std err          t      P>|t|      [0.025      0.975]\n",
       "------------------------------------------------------------------------------\n",
       "Intercept   -132.9486     14.706     -9.040      0.000    -161.793    -104.104\n",
       "ht             4.2552      0.156     27.359      0.000       3.950       4.560\n",
       "age            0.6959      0.521      1.335      0.182      -0.327       1.719\n",
       "==============================================================================\n",
       "Omnibus:                        2.123   Durbin-Watson:                   1.932\n",
       "Prob(Omnibus):                  0.346   Jarque-Bera (JB):                2.186\n",
       "Skew:                           0.080   Prob(JB):                        0.335\n",
       "Kurtosis:                       2.920   Cond. No.                     3.43e+03\n",
       "==============================================================================\n",
       "\n",
       "Warnings:\n",
       "[1] Standard Errors assume that the covariance matrix of the errors is correctly specified.\n",
       "[2] The condition number is large, 3.43e+03. This might indicate that there are\n",
       "strong multicollinearity or other numerical problems.\n",
       "\"\"\""
      ]
     },
     "execution_count": 28,
     "metadata": {},
     "output_type": "execute_result"
    }
   ],
   "source": [
    "### BEGIN SOLUTION\n",
    "data = pd.read_csv('hockey_draftees_train.csv')\n",
    "\n",
    "model = sm.ols('wt ~ ht + age', data=data).fit()\n",
    "\n",
    "model.summary()\n",
    "\n",
    "### END SOLUTION"
   ]
  },
  {
   "cell_type": "markdown",
   "metadata": {
    "nbgrader": {
     "grade": false,
     "grade_id": "cell-e426eb6a66d998df",
     "locked": true,
     "schema_version": 1,
     "solution": false
    }
   },
   "source": [
    "### Part B\n",
    "\n",
    "Print out the R-squared for this model\n"
   ]
  },
  {
   "cell_type": "code",
   "execution_count": 31,
   "metadata": {},
   "outputs": [
    {
     "name": "stdout",
     "output_type": "stream",
     "text": [
      "Training rsquared is  0.3140747914042906\n"
     ]
    }
   ],
   "source": [
    "print('Training rsquared is ',model.rsquared)\n",
    "# 31.4% of variation in weight is explained by height and age."
   ]
  },
  {
   "cell_type": "markdown",
   "metadata": {},
   "source": [
    "### Part C\n",
    "\n",
    "Now, let's see how well our model performs out of sample.  Load in the `hockey_draftees_test.csv` file into a dataframe.  Use your `model` to make predictions, and print the r-squared on the out of sample (oos) data."
   ]
  },
  {
   "cell_type": "code",
   "execution_count": 51,
   "metadata": {},
   "outputs": [
    {
     "name": "stdout",
     "output_type": "stream",
     "text": [
      "Out of sample rsquared is  0.33133392279868323\n"
     ]
    }
   ],
   "source": [
    "### BEGIN SOLUTION\n",
    "test = pd.read_csv('hockey_draftees_test.csv')\n",
    "\n",
    "y = test['wt']\n",
    "\n",
    "X = test[['ht', 'age']]\n",
    "\n",
    "yhat = model.predict(X)\n",
    "\n",
    "yhatmew = yhat.mean()\n",
    "\n",
    "yhatmew = yhatmew*np.ones(len(y))\n",
    "\n",
    "SSE = sum((y.values - yhat)**2)\n",
    "\n",
    "SST = sum((y.values - yhatmew)**2)\n",
    "\n",
    "rsquared_oos = 1 - SSE/SST\n",
    "\n",
    "### END SOLUTION\n",
    "\n",
    "print('Out of sample rsquared is ', rsquared_oos)\n"
   ]
  },
  {
   "cell_type": "markdown",
   "metadata": {},
   "source": [
    "### Part D\n",
    "\n",
    "A point estimate of the rsquared is nice, but what we really want is uncertainty estimates.  For that, we need a confidence interval.  To estimate how uncertain we are in our out of sample r-squared, let's use the bootstrap.\n",
    "\n",
    "Write a function called `bootstrap` which takes three arguments:\n",
    "\n",
    "* `data`, which is a dataframe, and \n",
    "* `model` which is an statsmodel ols model. `data` should look the the data `model` was trained on so that we can use `model` to make predictions on `data`.\n",
    "* `numboot` which is an integer denoting how many bootstrap replications to perform.\n",
    "\n",
    "Write `bootstrap` to perform bootstrap resampling for the out of sample r-squared.  You can use `pd.DataFrame.sample` with `replace = True` to perform the resampling.\n",
    "\n",
    "`bootstrap` should return a numpy array of bootstraped rsquared values.\n",
    "\n"
   ]
  },
  {
   "cell_type": "code",
   "execution_count": 67,
   "metadata": {
    "nbgrader": {
     "grade": false,
     "grade_id": "2",
     "locked": false,
     "schema_version": 1,
     "solution": true
    }
   },
   "outputs": [],
   "source": [
    "def bootstrap(data, model, numboot):\n",
    "    '''\n",
    "    Function to bootstrap the r-squared for a linear model\n",
    "    \n",
    "    Inputs:\n",
    "        data - dataframe.  Data on which model can predict.\n",
    "        model - statsmodel ols.  Linear model of weight explained by height and age.  Can predict on data.\n",
    "        numboot - int.  Number of bootstrap replications.\n",
    "    \n",
    "    Outputs:\n",
    "        bootstrapped_rsquared - array.  An array of size (numboot, ) which contains oos bootstrapped rsquared values.\n",
    "    \n",
    "    '''\n",
    "    bootstrapped_rsquared = np.ones(numboot)\n",
    "    ### BEGIN SOLUTION\n",
    "    np.random.seed(3)\n",
    "    for i in range(numboot):\n",
    "        n = len(data)\n",
    "        \n",
    "        d = data.sample(n, replace=True)\n",
    "        \n",
    "        y = d['wt']\n",
    "\n",
    "        X = d[['ht', 'age']]\n",
    "\n",
    "        yhat = model.predict(X)\n",
    "\n",
    "        yhatmew = yhat.mean()\n",
    "\n",
    "        yhatmew = yhatmew*np.ones(len(y))\n",
    "\n",
    "        SSE = sum((y.values - yhat)**2)\n",
    "    \n",
    "        SST = sum((y.values - yhatmew)**2)\n",
    "\n",
    "        rsquared_oos = 1 - SSE/SST\n",
    "        \n",
    "        bootstrapped_rsquared[i] = rsquared_oos\n",
    "        \n",
    "    \n",
    "    ### END SOLUTION\n",
    "\n",
    "    return bootstrapped_rsquared\n"
   ]
  },
  {
   "cell_type": "markdown",
   "metadata": {},
   "source": [
    "### Part E\n",
    "\n",
    "Use your `bootstrap` function to plot 10,000 bootstrap replicates as a histogram."
   ]
  },
  {
   "cell_type": "code",
   "execution_count": 68,
   "metadata": {},
   "outputs": [],
   "source": [
    "### BEGIN SOLUTION\n",
    "bs = bootstrap(test, model, 10000)\n",
    "### END SOLUTION\n"
   ]
  },
  {
   "cell_type": "code",
   "execution_count": 69,
   "metadata": {},
   "outputs": [
    {
     "data": {
      "text/plain": [
       "<matplotlib.axes._subplots.AxesSubplot at 0x1a2110c358>"
      ]
     },
     "execution_count": 69,
     "metadata": {},
     "output_type": "execute_result"
    },
    {
     "data": {
      "image/png": "[encoded data removed]",
      "text/plain": [
       "<Figure size 432x288 with 1 Axes>"
      ]
     },
     "metadata": {
      "needs_background": "light"
     },
     "output_type": "display_data"
    }
   ],
   "source": [
    "sns.distplot(bs)"
   ]
  },
  {
   "cell_type": "markdown",
   "metadata": {},
   "source": [
    "### Part F\n",
    "\n",
    "Use your bootstrap replicates to estimates to obtain a bootstrapped 95% confidence interval.  Call the upper confidence bound `ci_upper` and the lower confidence bound `ci_lower`."
   ]
  },
  {
   "cell_type": "code",
   "execution_count": 70,
   "metadata": {},
   "outputs": [
    {
     "name": "stdout",
     "output_type": "stream",
     "text": [
      "My confidence interval is between 0.2819577867304087  and  0.37654431805495847\n"
     ]
    }
   ],
   "source": [
    "### BEGIN SOLUTIOn\n",
    "boot_ci = np.quantile(bs, [0.025, 0.975])\n",
    "ci_lower = boot_ci[0]\n",
    "ci_upper= boot_ci[1]\n",
    "### END SOLUTION\n",
    "\n",
    "print('My confidence interval is between', ci_lower, ' and ', ci_upper)"
   ]
  }
 ],
 "metadata": {
  "celltoolbar": "Create Assignment",
  "kernelspec": {
   "display_name": "Python 3",
   "language": "python",
   "name": "python3"
  },
  "language_info": {
   "codemirror_mode": {
    "name": "ipython",
    "version": 3
   },
   "file_extension": ".py",
   "mimetype": "text/x-python",
   "name": "python",
   "nbconvert_exporter": "python",
   "pygments_lexer": "ipython3",
   "version": "3.6.9"
  }
 },
 "nbformat": 4,
 "nbformat_minor": 2
}
